{
 "cells": [
  {
   "cell_type": "markdown",
   "metadata": {},
   "source": [
    "# Lab2.1: Parallelism Generation in Multithreading\n",
    "\n",
    "The objective of this lab is to better understand parallelism generation in OpenMP. Parallelism generation is the ability to create workers. Some of these concepts were briefly introduced in [lab1](../Lab1/lab1.ipynb). In this lab we will describe them more in depth\n",
    "\n",
    "## Table of content:\n",
    "\n",
    "1. Parallel regions\n",
    "    1. OMP_NUM_THREADS environment variable\n",
    "    2. OMP_THREAD_LIMIT environment variable\n",
    "    3. omp_set_num_threads() API call\n",
    "    4. mixed number of threads\n",
    "    5. if() clause\n",
    "    7. Programs Relying on the number of threads\n",
    "2. Teams regions\n",
    "    1. Creating teams\n",
    "3. Parallel and teams\n",
    "    1. thread_limit() clause\n",
    "4. Nested parallelism\n",
    "    1. omp_get_ancestor_num_thread()\n",
    "    2. Some minor comments"
   ]
  },
  {
   "cell_type": "markdown",
   "metadata": {},
   "source": [
    "## Parallel regions\n",
    "Since its origin, OpenMP has focus on parallel regions. Parallel regions are created with the `#pragma omp parallel` directive, and its purpose is to generate a collection of software threads, each entering the same region of code.\n",
    "\n",
    "The `parallel` construct generates a `team of threads` containing one or more threads. There are different factors that influence how many threads are created and the user have some control over these. One factor that we cannot control as users is the system limitation. OpenMP is portable across systems, however, each system may impose limitations on how many threads can be generated. For example, an embedded system with a light weight operating system may not allow thread oversubscription (see lab 1 for details on this), a batch scheduler may restrict the number of threads in an application, or an OpenMP compiler implementation may decide to limit the number of threads it can handle to a maximum number.\n",
    "\n",
    "There are two rules of thumb:\n",
    "1. Number of threads used by the application is not guaranteed to be equal to the number of threads requested. The actual number of threads may be less or implementation defined. It is not a good idea for applications to rely on the number of threads as this will limit portability (Use discretion here, as there are good reasons to break this rule.)\n",
    "2. System oversubscription is not recommended, when all the threads will be constantly busy, as this has demonstrated to reduce application performance. Still, some applications use thread oversubscription to have some threads that do little work. \n",
    "\n",
    "Elements that affect the number of threads:\n",
    "* The `OMP_NUM_THREADS` environment variable\n",
    "* The `omp_set_num_threads()` API call\n",
    "* The `num_threads()` clause of the `parallel` construct\n",
    "* The `if()` clause of the `parallel` construct\n",
    "* The `OMP_DYNAMIC` environment variable\n",
    "* The `omp_set_dynamic()` API call\n",
    "* The `thread_limit()` clause in the `teams` directive\n",
    "* The `OMP_THREAD_LIMIT` and `OMP_TEAMS_THREAD_LIMIT` environment variable\n",
    "* The `OMP_NESTED` and `OMP_MAX_ACTIVE_LEVELS` environment variables\n",
    "\n",
    "In this section we will try to cover most of these. For the following example, we assume that we are running on a system that supports more threads.\n",
    "\n",
    "### OMP_NUM_THREADS environment variable\n",
    "Sets the default value to be use by `parallel` regions inside the OpenMP code.\n",
    "\n",
    "For the following hello world code\n",
    "\n",
    "```C\n",
    "#pragma omp parallel\n",
    "{\n",
    "    printf(\"Hello from %d out of \\n\", omp_get_thread_num(), omp_get_num_threads());\n",
    "}\n",
    "```\n",
    "\n",
    "The number of threads can be changed during runtime by using the `OMP_NUM_THREADS` environment variable, without the need to recompile"
   ]
  },
  {
   "cell_type": "code",
   "execution_count": null,
   "metadata": {},
   "outputs": [],
   "source": [
    "# First, let's compile it\n",
    "!srun -N 1 -c 8 clang -fopenmp C/hello_world.c -o C/hello_world.exe"
   ]
  },
  {
   "cell_type": "code",
   "execution_count": null,
   "metadata": {},
   "outputs": [],
   "source": [
    "# Now let's run it with different values\n",
    "\n",
    "#Running with default num threads. Implementation defined\n",
    "!srun -N 1 -c 8 C/./hello_world.exe"
   ]
  },
  {
   "cell_type": "code",
   "execution_count": null,
   "metadata": {},
   "outputs": [],
   "source": [
    "#Running with different num threads modifying OMP_NUM_THREADS\n",
    "!OMP_NUM_THREADS=3 srun -N 1 -c 8 C/./hello_world.exe"
   ]
  },
  {
   "cell_type": "code",
   "execution_count": null,
   "metadata": {},
   "outputs": [],
   "source": [
    "#Running with different num threads modifying OMP_NUM_THREADS\n",
    "!OMP_NUM_THREADS=5 srun -N 1 -c 8 C/./hello_world.exe"
   ]
  },
  {
   "cell_type": "markdown",
   "metadata": {},
   "source": [
    "Note:\n",
    "```\n",
    "Environment variables depend on the shell you're using. Here I am assuming bash and I am using the inline format. In bash you can also call `export` command prior to the execution of the program. Use your favorite shell, but change the code appropriately\n",
    "```"
   ]
  },
  {
   "cell_type": "markdown",
   "metadata": {},
   "source": [
    "You can check this code in [hello_world.c](C/hello_world.c)."
   ]
  },
  {
   "cell_type": "markdown",
   "metadata": {},
   "source": [
    "### OMP_THREAD_LIMIT environment variable\n",
    "\n",
    "This environment variable presents an additional limitation in the number of threads that are used, regardless of the number of threads requested. Using the same example above, we can set both environment variables to demonstrate the precedence order."
   ]
  },
  {
   "cell_type": "code",
   "execution_count": null,
   "metadata": {},
   "outputs": [],
   "source": [
    "#Building the hello world program\n",
    "!srun -N 1 -c 8 clang -fopenmp C/./hello_world.c -o C/hello_world.exe"
   ]
  },
  {
   "cell_type": "code",
   "execution_count": null,
   "metadata": {},
   "outputs": [],
   "source": [
    "# Running it with OMP_THREAD_LIMIT\n",
    "!OMP_THREAD_LIMIT=4 OMP_NUM_THREADS=1000 srun -N 1 -c 8 C/./hello_world.exe"
   ]
  },
  {
   "cell_type": "markdown",
   "metadata": {},
   "source": [
    "Some compilers, like clang, may give a warning about not being able to satisfied the requested number of threads."
   ]
  },
  {
   "cell_type": "markdown",
   "metadata": {},
   "source": [
    "### omp_set_num_threads() API call\n",
    "Another way of setting the number of threads before the execution of a parallel region is to use the `omp_set_num_threads()` API function call. This call will have precedence over the environment variable OMP_NUM_THREADS.\n",
    "\n",
    "Take for example the following code that sets the number of threads to 4 before the parallel region.\n",
    "\n",
    "```C\n",
    "omp_set_num_threads(4);\n",
    "#pragma omp parallel\n",
    "{\n",
    "    printf(\"Hi from %d out of %d\\n\", omp_get_thread_num(), omp_get_num_threads());\n",
    "}\n",
    "```"
   ]
  },
  {
   "cell_type": "code",
   "execution_count": null,
   "metadata": {},
   "outputs": [],
   "source": [
    "#Building the program\n",
    "!srun -N 1 -c 8 clang -fopenmp C/omp_set_num_threads.c -o C/omp_set_num_threads.exe"
   ]
  },
  {
   "cell_type": "code",
   "execution_count": null,
   "metadata": {},
   "outputs": [],
   "source": [
    "#Running the program\n",
    "!srun -N 1 -c 8 C/./omp_set_num_threads.exe"
   ]
  },
  {
   "cell_type": "code",
   "execution_count": null,
   "metadata": {},
   "outputs": [],
   "source": [
    "#Running the program trying to force num threads with env variable\n",
    "!OMP_NUM_THREADS=1000 srun -N 1 -c 8 C/./omp_set_num_threads.exe"
   ]
  },
  {
   "cell_type": "markdown",
   "metadata": {},
   "source": [
    "The environment variable is ignored, because the API call has higher precedence.\n",
    "\n",
    "To play with this code go to [omp_set_num_threads.c](C/omp_set_num_threads.c)"
   ]
  },
  {
   "cell_type": "markdown",
   "metadata": {},
   "source": [
    "### num_threads() clause\n",
    "\n",
    "Yet another way to change the number of threads is with the `num_threads()` clause supported by the `parallel` construct. The clause applied directly to the parallel region has higher precedence in comparison to the `OMP_NUM_THREADS` environment variable, and the `omp_set_num_threads()` API call.\n",
    "\n",
    "Take for example the following code\n",
    "\n",
    "```C\n",
    "#pragma omp parallel num_threads(4)\n",
    "{\n",
    "    printf(\"Hi from %d out of %d\\n\", omp_get_thread_num(), omp_get_num_threads());\n",
    "}\n",
    "```"
   ]
  },
  {
   "cell_type": "code",
   "execution_count": null,
   "metadata": {},
   "outputs": [],
   "source": [
    "#Building the program\n",
    "!srun -N 1 -c 8 clang -fopenmp C/num_threads.c -o C/num_threads.exe"
   ]
  },
  {
   "cell_type": "code",
   "execution_count": null,
   "metadata": {},
   "outputs": [],
   "source": [
    "# Running\n",
    "!srun -N 1 -c 8 C/./num_threads.exe"
   ]
  },
  {
   "cell_type": "code",
   "execution_count": null,
   "metadata": {},
   "outputs": [],
   "source": [
    "# Running with OMP_NUM_THREADS to demonstrate precedence\n",
    "!OMP_NUM_THREADS=1000 srun -N 1 -c 8 C/./num_threads.exe"
   ]
  },
  {
   "cell_type": "markdown",
   "metadata": {},
   "source": [
    "You can play with this code in [num_threads.c](C/num_threads.c)"
   ]
  },
  {
   "cell_type": "markdown",
   "metadata": {},
   "source": [
    "### Mixed number of threads\n",
    "\n",
    "It is not necessary to have the same number of threads for all your program. Furthermore, it is possible to use the different aforementioned methods within the same program and rely on their changes to the Internal Control Variables (ICVs)\n",
    "\n",
    "The following example uses the default number of threads or `OMP_NUM_THREADS`, the `omp_set_num_threads()` API call and the `num_threads()` clauses within the same program. "
   ]
  },
  {
   "cell_type": "code",
   "execution_count": null,
   "metadata": {},
   "outputs": [],
   "source": [
    "# Building\n",
    "!srun -N 1 -c 8 clang -fopenmp C/num_threads_mixed.c -o C/num_threads_mixed.exe"
   ]
  },
  {
   "cell_type": "code",
   "execution_count": null,
   "metadata": {},
   "outputs": [],
   "source": [
    "# Running\n",
    "!OMP_NUM_THREADS=1 srun -N 1 -c 8 C/./num_threads_mixed.exe"
   ]
  },
  {
   "cell_type": "markdown",
   "metadata": {},
   "source": [
    "You can play with this code in [num_threads_mixed.c](C/num_threads_mixed.c)"
   ]
  },
  {
   "cell_type": "markdown",
   "metadata": {},
   "source": [
    "### The if() clause\n",
    "\n",
    "The `if()` clause is used to enable or disable different directives (e.g. threads, teams, and target). In the context of number of threads, the `if()` clause will create a region that uses only a single thread, regardless of the ICV variable that controls the number of threads.\n",
    "\n",
    "Take for example the following code\n",
    "```C\n",
    "#pragma omp parallel if(false) num_threads(1000)\n",
    "{\n",
    "    printf(\"Hi from %d out of %d\\n\", omp_get_thread_num(), omp_get_num_threads());\n",
    "}\n",
    "```\n",
    "\n",
    "In this case, the parallel region will only contain a single thread."
   ]
  },
  {
   "cell_type": "code",
   "execution_count": null,
   "metadata": {},
   "outputs": [],
   "source": [
    "# Building\n",
    "!srun -N 1 -c 8 clang -fopenmp C/parallel_if.c -o C/parallel_if.exe"
   ]
  },
  {
   "cell_type": "code",
   "execution_count": null,
   "metadata": {},
   "outputs": [],
   "source": [
    "# Running\n",
    "!srun -N 1 -c 8 C/./parallel_if.exe"
   ]
  },
  {
   "cell_type": "markdown",
   "metadata": {},
   "source": [
    "You can play with this code changing the file [parallel_if.c](C/parallel_if.c)\n",
    "\n",
    "Note:\n",
    "```\n",
    "Number of threads equal to one and no OpenMP parallel region seem to be identical, However, the openMP parallel region is still outlined and sent through the runtime. This can lead to missed opportunities during compilation, that can make a program with if(false) slower than a program without no OpenMP at all. Depending on the compiler implementation, an if()` clause that evaluates to false during compile time, may be optimized. Johannes Doerfart and Hal Finkel have an excellent paper on this called \"Compiler optimizations For OpenMP\". A recommended reading on this topic. \n",
    "```"
   ]
  },
  {
   "cell_type": "markdown",
   "metadata": {},
   "source": [
    "### Programs relying on number of threads\n",
    "Notice that it is possible to create programs that lock or fail due to insufficient number of threads. Take for example the following code:\n",
    "\n",
    "```C\n",
    "int a_var = 0;\n",
    "#pragma omp parallel shared(a_var)\n",
    "{\n",
    "    if (omp_get_thread_num() == 0) {\n",
    "        while(a_var == 0);\n",
    "    } else {\n",
    "        #pragma omp atomic\n",
    "        a_var++;\n",
    "    }\n",
    "}\n",
    "```\n",
    "\n",
    "Really important note:\n",
    "```\n",
    "The example above is a terrible code meant only to demonstrate that it is possible to create programs that rely on a given number of threads, in this case it must be more than 1. Please use caution when using this code, and don't blame me.\n",
    "```"
   ]
  },
  {
   "cell_type": "code",
   "execution_count": null,
   "metadata": {},
   "outputs": [],
   "source": [
    "#building the example\n",
    "!srun -N 1 -c 8 clang -fopenmp C/lock_program.c -o C/lock_program.exe"
   ]
  },
  {
   "cell_type": "code",
   "execution_count": null,
   "metadata": {},
   "outputs": [],
   "source": [
    "#Executing with many threads\n",
    "!OMP_NUM_THREADS=4 srun -N 1 -c 8  C/./lock_program.exe"
   ]
  },
  {
   "cell_type": "code",
   "execution_count": null,
   "metadata": {},
   "outputs": [],
   "source": [
    "#Executing with timeout to avoid locking this cell\n",
    "!OMP_NUM_THREADS=1 srun -N 1 -c 8 timeout 10 C/./lock_program.exe || if [ $? -eq 124 ]; then echo \"Program took too long\"; fi"
   ]
  },
  {
   "cell_type": "markdown",
   "metadata": {},
   "source": [
    "Therefore, if your program relies on the number of threads, it is preferable to have checks on what would be the number of threads that the parallel region will create. The `omp_get_max_threads()` allows to know how many threads an upcoming parallel region will generate, by checking the current state of the Internal Control Variable (ICV)."
   ]
  },
  {
   "cell_type": "code",
   "execution_count": null,
   "metadata": {},
   "outputs": [],
   "source": [
    "# Building\n",
    "!srun -N 1 -c 8 clang -fopenmp C/lock_safe_program.c -o C/lock_safe_program.exe"
   ]
  },
  {
   "cell_type": "code",
   "execution_count": null,
   "metadata": {},
   "outputs": [],
   "source": [
    "# Running with sufficient threads\n",
    "!OMP_NUM_THREADS=4 srun -N 1 -c 8 C/./lock_safe_program.exe"
   ]
  },
  {
   "cell_type": "code",
   "execution_count": null,
   "metadata": {},
   "outputs": [],
   "source": [
    "# Running without sufficient threads\n",
    "!OMP_NUM_THREADS=1 srun -N 1 -c 8 C/./lock_safe_program.exe"
   ]
  },
  {
   "cell_type": "markdown",
   "metadata": {},
   "source": [
    "Notice how the same code we had before has an early termination check that avoids this issue. Again, this code is for demonstration purposes only, as there are better ways to do this.\n",
    "\n",
    "You can play with these codes going to [lock_program.c](C/lock_program.c) and [lock_safe_program.c](C/lock_safe_program.c)"
   ]
  },
  {
   "cell_type": "markdown",
   "metadata": {},
   "source": [
    "## Teams regions\n",
    "\n",
    "Team regions were originally introduced for expressing parallelism inside target regions. However, teams are now available for the host as well. Therefore, it is not necessary to have a target region in order to support teams.\n",
    "\n",
    "The `teams` directive creates a league of teams. In contrast with threads, teams are loosely coupled, and should not synchronize. Teams within a league of threads are not guaranteed to be executed concurrently, therefore, if a team is waiting for another team that has not been scheduled, this may cause a deadlock. \n",
    "\n",
    "When a thread encounters a `teams` construct, an _initial team_ is created. An initial team contains a single thread, that represents the _primary_ thread (formerly called _master_ thread). The team region is executed by the _primary_ thread of each team.\n",
    "\n",
    "The number of teams is affected by:\n",
    "1. the `OMP_NUM_TEAMS` environment variable\n",
    "2. the `omp_set_num_teams()` API call\n",
    "3. the `num_teams()` clause\n",
    "4. the `if()` clause\n",
    "\n",
    "However, contrary to threads, teams are guaranteed to be exact, as long as they are less than the system's limit. The system's limit can be confirmed with `omp_get_max_teams()`"
   ]
  },
  {
   "cell_type": "markdown",
   "metadata": {},
   "source": [
    "### Creating teams\n",
    "\n",
    "The `teams` directive is used to create teams. Take the following example.\n",
    "\n",
    "```C\n",
    "#pragma omp teams num_teams(8)\n",
    "{\n",
    "    printf(\"Hi from team %d and I have %d threads\\n\", omp_get_team_num(), omp_get_num_threads());\n",
    "}\n",
    "```"
   ]
  },
  {
   "cell_type": "code",
   "execution_count": null,
   "metadata": {},
   "outputs": [],
   "source": [
    "# Building\n",
    "!srun -N 1 -c 8 clang -fopenmp C/teams.c -o C/teams.exe"
   ]
  },
  {
   "cell_type": "code",
   "execution_count": null,
   "metadata": {},
   "outputs": [],
   "source": [
    "# Compiling\n",
    "!srun -N 1 -c 8 C/./teams.exe"
   ]
  },
  {
   "cell_type": "markdown",
   "metadata": {},
   "source": [
    "You can play with this code in [teams.c](C/teams.c)\n",
    "\n",
    "Notice that this example is similar to threads. However, there are differences between these. First, teams are mainly used to group threads creating an additional level of scheduling locality. Through the use of `OMP_PLACES` (to be covered in another laboratory), teams can be used to better control the distribution of threads in the system. Furthermore, teams can be combined with threads as we will see later in this tutorial."
   ]
  },
  {
   "cell_type": "markdown",
   "metadata": {},
   "source": [
    "## Parallel and teams\n",
    "\n",
    "Inside a `teams` region, a `parallel` region should be used as well. Teams allow to create set of threads, that are scheduled independently, as well as placed in specific parts of the system.\n",
    "\n",
    "Take for example the following code:\n",
    "\n",
    "```C\n",
    "    #pragma omp teams num_teams(6)\n",
    "    {\n",
    "        #pragma omp parallel num_threads(2)\n",
    "        {\n",
    "            printf(\"Hi from thread %d in team %d\\n\", omp_get_thread_num(), omp_get_team_num());\n",
    "        }\n",
    "    }\n",
    "```\n",
    "\n",
    "This code creates 12 threads in total. However, a compiler may decide to create and execute one team at a time with 2 threads each. Thus, reducing the possible collision of resources that comes with thread oversubscription."
   ]
  },
  {
   "cell_type": "code",
   "execution_count": null,
   "metadata": {},
   "outputs": [],
   "source": [
    "#building (using GCC due to poor support in clang of teams in the host)\n",
    "!srun -N 1 -c 8 gcc -fopenmp C/teams_parallel.c -o C/teams_parallel.exe"
   ]
  },
  {
   "cell_type": "code",
   "execution_count": null,
   "metadata": {},
   "outputs": [],
   "source": [
    "#Running\n",
    "!srun -N 1 -c 8 C/./teams_parallel.exe"
   ]
  },
  {
   "cell_type": "markdown",
   "metadata": {},
   "source": [
    "Play with this code in [teams_parallel.c](C/teams_parallel.c)"
   ]
  },
  {
   "cell_type": "markdown",
   "metadata": {},
   "source": [
    "### Limiting threads per team\n",
    "\n",
    "The number of threads per team can be limited by using:\n",
    "1. Environment variable `OMP_TEAMS_THREAD_LIMIT`\n",
    "2. API call `omp_set_teams_thread_limit()`\n",
    "3. `thread_limit()` clause\n",
    "\n",
    "Imagine that we want to create a function containing a parallel region. However, we want to limit how many threads are executed in this parallel region at the same time, depending on the number of teams (e.g. depending on the machine configuration). This is possible by creating a code like this:\n",
    "\n",
    "```C\n",
    "void foo() {\n",
    "    #pragma omp parallel num_threads(12)\n",
    "    {\n",
    "        printf(\"hello from %d\\n\", omp_get_thread_num());\n",
    "    }\n",
    "}\n",
    "\n",
    "int main() {\n",
    "    foo();\n",
    "    #pragma omp teams num_teams(2) thread_limit(6)\n",
    "    {\n",
    "        foo();\n",
    "    }\n",
    "}\n",
    "```\n",
    "\n",
    "Of course there is no particular logic here to specify the thread_limit, but this code provides an example of how limiting the number of threads can lead to different thread distribution"
   ]
  },
  {
   "cell_type": "code",
   "execution_count": null,
   "metadata": {},
   "outputs": [],
   "source": [
    "#Building (Using GCC due to a limited implementation in clang)\n",
    "!srun -N 1 -c 8 gcc -fopenmp C/thread_limit.c -o C/thread_limit.exe"
   ]
  },
  {
   "cell_type": "code",
   "execution_count": null,
   "metadata": {},
   "outputs": [],
   "source": [
    "#Running\n",
    "!srun -N 1 -c 8 C/./thread_limit.exe"
   ]
  },
  {
   "cell_type": "markdown",
   "metadata": {},
   "source": [
    "You can play with this code in [thread_limit.c](C/thread_limit.c)"
   ]
  },
  {
   "cell_type": "markdown",
   "metadata": {},
   "source": [
    "## Nested parallelism\n",
    "\n",
    "New parallel regions can be spawned within already existing regions. This is referred to as nested parallelism. Nested parallelism must be supported by the implementation, and it is possible to restrict the number of levels that are supported. This is important when oversubscription of threads leads to performance degradation.\n",
    "\n",
    "The term level refers to the number of parallel regions that have been created at the moment of creating a parallel region. The first parallel region is level 1, increasing as we add parallel regions. \n",
    "\n",
    "Let us begin with a simple example:\n",
    "\n",
    "```C\n",
    "#pragma omp parallel num_threads(1)\n",
    "{\n",
    "    printf(\"Level %d\\n\", omp_get_level());\n",
    "    #pragma omp parallel num_threads(1)\n",
    "    {\n",
    "        printf(\"Level %d\\n\", omp_get_level());\n",
    "        #pragma omp parallel num_threads(1)\n",
    "        {\n",
    "            printf(\"Level %d\\n\", omp_get_level());\n",
    "        }\n",
    "    }\n",
    "}\n",
    "```"
   ]
  },
  {
   "cell_type": "code",
   "execution_count": null,
   "metadata": {},
   "outputs": [],
   "source": [
    "#build\n",
    "!srun -N 1 -c 8 clang -fopenmp C/levels.c -o C/levels.exe"
   ]
  },
  {
   "cell_type": "code",
   "execution_count": null,
   "metadata": {},
   "outputs": [],
   "source": [
    "#Execute\n",
    "!srun -N 1 -c 8 C/./levels.exe"
   ]
  },
  {
   "cell_type": "markdown",
   "metadata": {},
   "source": [
    "Not all levels are active levels. Is is possible to limit how many nested levels are supported. An active level will spawn more threads, while an inactive level will not. \n",
    "\n",
    "The maximum number of levels can be set with:\n",
    "* Environment variable `OMP_MAX_ACTIVE_LEVELS`\n",
    "* omp_set_max_active_levels() API call\n",
    "\n",
    "Let's take a look at this in action:\n",
    "\n",
    "```C\n",
    "void foo(int a) {\n",
    "    if (a == 0) return;\n",
    "    printf(\"Level %d is %s\\n\", omp_get_level(), \n",
    "            (omp_get_level() == omp_get_active_level()) ? \"Active\": \"Inactive\");\n",
    "    #pragma omp parallel num_threads(2)\n",
    "    {\n",
    "        #pragma omp single\n",
    "        foo(a-1);\n",
    "    }\n",
    "}\n",
    "```"
   ]
  },
  {
   "cell_type": "code",
   "execution_count": null,
   "metadata": {},
   "outputs": [],
   "source": [
    "#Build\n",
    "!srun -N 1 -c 8 clang -fopenmp C/active_levels.c -o C/active_levels.exe"
   ]
  },
  {
   "cell_type": "code",
   "execution_count": null,
   "metadata": {},
   "outputs": [],
   "source": [
    "#Execute\n",
    "!OMP_MAX_ACTIVE_LEVELS=3 srun -N 1 -c 8 C/./active_levels.exe"
   ]
  },
  {
   "cell_type": "markdown",
   "metadata": {},
   "source": [
    "The `omp single` is used to avoid spawning all the threads per thread, helping print the active/inactive status. Removing it will also display the same messages, but repeated every time.\n",
    "\n",
    "To play with this code go to [active_levels.c](C/active_levels.c)"
   ]
  },
  {
   "cell_type": "markdown",
   "metadata": {},
   "source": [
    "### omp_get_ancestor_thread_num API call\n",
    "\n",
    "In the previous example we use other API functions that are intended for understanding nested parallelism.\n",
    "\n",
    "`omp_get_level()` gives the current executing level. However, `omp_get_active_level()` returns the number of parallel regions (levels) that are active, as seen before.\n",
    "\n",
    "Another important API call is `omp_get_ancestor_thread_num(level)` which allows to get the thread number for all the levels that are ancestors of the current thread.\n",
    "\n",
    "The aforementioned code can be rewritten to use this, spawn all threads, and only let a single task per level output a message\n",
    "\n",
    "```C\n",
    "void foo(int a) {\n",
    "    if (a == 0) return;\n",
    "    int i = 0;\n",
    "    // Check if all my ancestors are thread 0\n",
    "    while(omp_get_ancestor_thread_num(i) == 0 && i++ <= omp_get_level());\n",
    "    if (omp_get_level() == i)\n",
    "        printf(\"Level %d is %s\\n\", omp_get_level(), \n",
    "            (omp_get_level() == omp_get_active_level()) ? \"Active\": \"Inactive\");\n",
    "    #pragma omp parallel num_threads(2)\n",
    "    {\n",
    "        foo(a-1);\n",
    "    }\n",
    "}\n",
    "```\n"
   ]
  },
  {
   "cell_type": "code",
   "execution_count": null,
   "metadata": {},
   "outputs": [],
   "source": [
    "#Build\n",
    "!srun -N 1 -c 8 clang -fopenmp C/active_levels2.c -o C/active_levels2.exe"
   ]
  },
  {
   "cell_type": "code",
   "execution_count": null,
   "metadata": {},
   "outputs": [],
   "source": [
    "#Execute\n",
    "!OMP_MAX_ACTIVE_LEVELS=3 srun -N 1 -c 8 C/./active_levels2.exe"
   ]
  },
  {
   "cell_type": "markdown",
   "metadata": {},
   "source": [
    "You can play with this code in [active_levels2.c](C/active_levels2.c)"
   ]
  },
  {
   "cell_type": "markdown",
   "metadata": {},
   "source": [
    "The `omp single` is used to avoid spawning all the threads per thread, helping print the active/inactive status. Removing it will also display the same messages, but repeated every time.\n",
    "\n",
    "To play with this code go to [active_levels.c](C/active_levels.c)"
   ]
  },
  {
   "cell_type": "markdown",
   "metadata": {},
   "source": [
    "### Some additional notes on nested parallelism:\n",
    "* Before `OMP_NESTED` would enable/disable nested parallelism. This has been deprecated in favor of active levels.\n",
    "* The max number of levels supported overall by an implementation can be query using `omp_get_supported_active_levels()`"
   ]
  },
  {
   "cell_type": "markdown",
   "metadata": {},
   "source": []
  }
 ],
 "metadata": {
  "kernelspec": {
   "display_name": "Python 3.8.10 64-bit",
   "language": "python",
   "name": "python3"
  },
  "language_info": {
   "codemirror_mode": {
    "name": "ipython",
    "version": 3
   },
   "file_extension": ".py",
   "mimetype": "text/x-python",
   "name": "python",
   "nbconvert_exporter": "python",
   "pygments_lexer": "ipython3",
   "version": "3.8.10"
  },
  "orig_nbformat": 4,
  "vscode": {
   "interpreter": {
    "hash": "e7370f93d1d0cde622a1f8e1c04877d8463912d04d973331ad4851f04de6915a"
   }
  }
 },
 "nbformat": 4,
 "nbformat_minor": 2
}
