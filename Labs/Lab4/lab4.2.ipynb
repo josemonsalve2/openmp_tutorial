{
 "cells": [
  {
   "cell_type": "markdown",
   "metadata": {},
   "source": [
    "# Lab 4.2: Exploiting parallelism in the GPU\n",
    "\n",
    "The objective of this lab is to understand how to create workers and assign work to workers in the GPU. This lab introduces the concepts of teams, parallel, distribute, for, and related clauses. \n",
    "\n",
    "This tutorial is expected to run in a Linux-like environment.\n",
    "\n",
    "## Table of content\n",
    "\n",
    "* The GPGPU\n",
    "* OMP Target is not parallel\n",
    "    * teams\n",
    "    * parallel\n",
    "    * Controlling number of teams and threads\n",
    "* Worksharing-loop constructs\n",
    "    * Distribute\n",
    "    * for\n",
    "    * Scheduling\n",
    "* Data environment\n",
    "\n",
    "## The GPGPU\n",
    "\n",
    "A GPU often contains a large number of cores. These cores are grouped together into sets, each named **Streaming Multiprocessor (SM)**. Each streaming multiprocessor contains a local memory that can be shared across the cores that belong to the same SM. Each core may also contain private memory (e.g. registers, and L1 cache), but these are not exposed to OpenMP. SMs are connected through a global GPU memory that supports atomic operations. We showed an example of this in the slides, feel free to refer to this example. \n",
    "\n",
    "We can use different tools, either specific to the vendor (e.g. `nvidia-smi` and `rocm-info`) or to the compiler. Let's take a look at the GPUs in your system from the perspective of the LLVM compiler runtime using `llvm-omp-device-info`:\n"
   ]
  },
  {
   "cell_type": "code",
   "execution_count": 1,
   "metadata": {},
   "outputs": [
    {
     "name": "stdout",
     "output_type": "stream",
     "text": [
      "Device (0):\n",
      "    This is a generic-elf-64bit device\n",
      "\n",
      "Device (1):\n",
      "    This is a generic-elf-64bit device\n",
      "\n",
      "Device (2):\n",
      "    This is a generic-elf-64bit device\n",
      "\n",
      "Device (3):\n",
      "    This is a generic-elf-64bit device\n",
      "\n",
      "Device (4):\n",
      "    CUDA Driver Version: \t\t11040 \n",
      "    CUDA Device Number: \t\t0 \n",
      "    Device Name: \t\t\tQuadro P1000 \n",
      "    Global Memory Size: \t\t4236312576 bytes \n",
      "    Number of Multiprocessors: \t\t5 \n",
      "    Concurrent Copy and Execution: \tYes \n",
      "    Total Constant Memory: \t\t65536 bytes\n",
      "    Max Shared Memory per Block: \t49152 bytes \n",
      "    Registers per Block: \t\t65536 \n",
      "    Warp Size: \t\t\t\t32 Threads \n",
      "    Maximum Threads per Block: \t\t1024 \n",
      "    Maximum Block Dimensions: \t\t1024, 1024, 64 \n",
      "    Maximum Grid Dimensions: \t\t2147483647 x 65535 x 65535 \n",
      "    Maximum Memory Pitch: \t\t2147483647 bytes \n",
      "    Texture Alignment: \t\t\t512 bytes \n",
      "    Clock Rate: \t\t\t1480500 kHz\n",
      "    Execution Timeout: \t\t\tNo \n",
      "    Integrated Device: \t\t\tNo \n",
      "    Can Map Host Memory: \t\tYes \n",
      "    Compute Mode: \t\t\tDEFAULT \n",
      "    Concurrent Kernels: \t\tYes \n",
      "    ECC Enabled: \t\t\tNo \n",
      "    Memory Clock Rate: \t\t\t2505000 kHz\n",
      "    Memory Bus Width: \t\t\t128 bits\n",
      "    L2 Cache Size: \t\t\t1048576 bytes \n",
      "    Max Threads Per SMP: \t\t2048 \n",
      "    Async Engines: \t\t\tYes (2) \n",
      "    Unified Addressing: \t\tYes \n",
      "    Managed Memory: \t\t\tYes \n",
      "    Concurrent Managed Memory: \t\tYes \n",
      "    Preemption Supported: \t\tYes \n",
      "    Cooperative Launch: \t\tYes \n",
      "    Multi-Device Boars: \t\tNo \n",
      "    Compute Capabilities: \t\t61 \n",
      "\n"
     ]
    }
   ],
   "source": [
    "# Command line tool\n",
    "!llvm-omp-device-info"
   ]
  },
  {
   "cell_type": "markdown",
   "metadata": {},
   "source": [
    "This command will help you understand what devices the OpenMP runtime is seeing in your system, as well as its characteristics. Assuming the execution environment is the same as the code you're executing, this command will show you what devices your application will see. To get more details on what the above numbers are, please see the vendor specific manuals (or just ask the instructor of this lab).\n",
    "\n",
    "```\n",
    "Note: Streaming Multiprocessor is the name given to the units of hardware that contains multiple cores in the NVIDIA. Since NVIDIA is currently the most common architecture, I am using this term here. However, be aware that each vendor has a different name for this. AMD uses Data Parallel Processor (DPP) array. Intel uses Compute Slice or Xe Core. These last two architectures also exploit the SIMD instruction level parallelism, which is not common in NVIDIA GPU. While there are changes in the architectures, the OpenMP specifications only considers the three levels in the hierarchy described below: Teams, Threads, and SIMD\n",
    "```"
   ]
  },
  {
   "cell_type": "markdown",
   "metadata": {},
   "source": [
    "## A target is not parallel\n",
    "\n",
    "So far in this tutorial we have been using `#pragma omp target` to specify a region of code to be executed in the device. However, it is important to understand that, if you are only using target, your code is running in the GPU, but it does not mean it is running in parallel. GPU cores are often slower and less robust than CPU cores. So just adding your application to a target region will most likely result in a considerable slow down in the execution time. \n",
    "\n",
    "Let's take a look at the following example:\n",
    "\n",
    "\n",
    "```C\n",
    "    start = omp_get_wtime();\n",
    "    for (int i = 0; i < 100000; i++)\n",
    "        A[i]++;\n",
    "    end = omp_get_wtime();\n",
    "    printf(\"CPU Time = %f\", end-start);\n",
    "\n",
    "    start = omp_get_wtime();\n",
    "    #pragma omp target map(tofrom:A[0:100000])\n",
    "    for (int i = 0; i < 100000; i++)\n",
    "        A[i]++;\n",
    "    end = omp_get_wtime();\n",
    "```\n",
    "\n"
   ]
  },
  {
   "cell_type": "code",
   "execution_count": 10,
   "metadata": {},
   "outputs": [],
   "source": [
    "# Building\n",
    "!srun -N 1 -c 8 clang -fopenmp -fopenmp-targets=nvptx64 C/target_only.c -o C/./target_only.exe"
   ]
  },
  {
   "cell_type": "code",
   "execution_count": 11,
   "metadata": {},
   "outputs": [
    {
     "name": "stdout",
     "output_type": "stream",
     "text": [
      "CPU Time = 0.001914\n",
      "GPU Time = 1.474614\n",
      "GPU no data move Time = 1.395071\n"
     ]
    }
   ],
   "source": [
    "# Running\n",
    "!srun -N 1 -c 8 C/./target_only.exe"
   ]
  },
  {
   "cell_type": "markdown",
   "metadata": {},
   "source": [
    "Most likely the above code will have a larger GPU time than the CPU. We will fix this on this lab."
   ]
  },
  {
   "cell_type": "markdown",
   "metadata": {},
   "source": [
    "## Teams, Parallel, and SIMD\n",
    "\n",
    "There are three levels of parallelism in OpenMP. Teams, threads and SIMD lanes. The latter is not exercised in the Clang compiler for NVIDIA GPUs so we will not provide an example on this lab.\n",
    "\n",
    "### Teams\n",
    "\n",
    "A team is in principle an aggregation of threads. The `teams` directive creates a *league of teams* which is a set of teams. Teams map to the Streaming Multiprocessor of the GPUs. If you're familiar with CUDA, a `team` is similar to a `block` of threads. Teams should never be synchronize other than at the beginning and end of the teams region. Teams are also not guaranteed to be executed concurrently, therefore, you should not rely on any particular synchronization mechanism (e.g. through atomic operations in memory) to synchronize teams, this may lead to deadlocks.\n",
    "\n",
    "Teams begin execution with a single thread. In order to create more threads the parallel construct is used, as described in the next sub section. \n",
    "\n",
    "Let's take a look at the teams example:\n",
    "\n",
    "\n",
    "```C\n",
    "    #pragma omp target teams\n",
    "    {\n",
    "        int teamNum = omp_get_team_num();\n",
    "        int threadNum = omp_get_thread_num();\n",
    "        int numThreads = omp_get_num_threads();\n",
    "        int numTeams = omp_get_num_teams();\n",
    "        if ( teamNum == 0)\n",
    "            printf(\"There are %d teams in total\\n\", numTeams);\n",
    "        printf(\"I am thread %d in team %d and there are %d threads inside me\\n\", threadNum, teamNum, numThreads);\n",
    "    }\n",
    "```\n"
   ]
  },
  {
   "cell_type": "code",
   "execution_count": 12,
   "metadata": {},
   "outputs": [],
   "source": [
    "# Building\n",
    "!srun -N 1 -c 8 clang -fopenmp -fopenmp-targets=nvptx64 C/teams_only.c -o C/./teams_only.exe"
   ]
  },
  {
   "cell_type": "code",
   "execution_count": 13,
   "metadata": {},
   "outputs": [
    {
     "name": "stdout",
     "output_type": "stream",
     "text": [
      "There are 128 teams in total\n",
      "I am thread 0 in team 5 and there are 1 threads inside me\n",
      "I am thread 0 in team 10 and there are 1 threads inside me\n",
      "I am thread 0 in team 7 and there are 1 threads inside me\n",
      "I am thread 0 in team 17 and there are 1 threads inside me\n",
      "I am thread 0 in team 12 and there are 1 threads inside me\n",
      "I am thread 0 in team 2 and there are 1 threads inside me\n",
      "I am thread 0 in team 6 and there are 1 threads inside me\n",
      "I am thread 0 in team 16 and there are 1 threads inside me\n",
      "I am thread 0 in team 11 and there are 1 threads inside me\n",
      "I am thread 0 in team 1 and there are 1 threads inside me\n",
      "I am thread 0 in team 8 and there are 1 threads inside me\n",
      "I am thread 0 in team 18 and there are 1 threads inside me\n",
      "I am thread 0 in team 13 and there are 1 threads inside me\n",
      "I am thread 0 in team 3 and there are 1 threads inside me\n",
      "I am thread 0 in team 19 and there are 1 threads inside me\n",
      "I am thread 0 in team 14 and there are 1 threads inside me\n",
      "I am thread 0 in team 4 and there are 1 threads inside me\n",
      "I am thread 0 in team 9 and there are 1 threads inside me\n",
      "I am thread 0 in team 15 and there are 1 threads inside me\n",
      "I am thread 0 in team 0 and there are 1 threads inside me\n",
      "I am thread 0 in team 22 and there are 1 threads inside me\n",
      "I am thread 0 in team 25 and there are 1 threads inside me\n",
      "I am thread 0 in team 23 and there are 1 threads inside me\n",
      "I am thread 0 in team 21 and there are 1 threads inside me\n",
      "I am thread 0 in team 24 and there are 1 threads inside me\n",
      "I am thread 0 in team 20 and there are 1 threads inside me\n",
      "I am thread 0 in team 27 and there are 1 threads inside me\n",
      "I am thread 0 in team 28 and there are 1 threads inside me\n",
      "I am thread 0 in team 26 and there are 1 threads inside me\n",
      "I am thread 0 in team 37 and there are 1 threads inside me\n",
      "I am thread 0 in team 31 and there are 1 threads inside me\n",
      "I am thread 0 in team 35 and there are 1 threads inside me\n",
      "I am thread 0 in team 33 and there are 1 threads inside me\n",
      "I am thread 0 in team 29 and there are 1 threads inside me\n",
      "I am thread 0 in team 32 and there are 1 threads inside me\n",
      "I am thread 0 in team 36 and there are 1 threads inside me\n",
      "I am thread 0 in team 34 and there are 1 threads inside me\n",
      "I am thread 0 in team 30 and there are 1 threads inside me\n",
      "I am thread 0 in team 38 and there are 1 threads inside me\n",
      "I am thread 0 in team 39 and there are 1 threads inside me\n",
      "I am thread 0 in team 43 and there are 1 threads inside me\n",
      "I am thread 0 in team 41 and there are 1 threads inside me\n",
      "I am thread 0 in team 40 and there are 1 threads inside me\n",
      "I am thread 0 in team 42 and there are 1 threads inside me\n",
      "I am thread 0 in team 44 and there are 1 threads inside me\n",
      "I am thread 0 in team 45 and there are 1 threads inside me\n",
      "I am thread 0 in team 46 and there are 1 threads inside me\n",
      "I am thread 0 in team 48 and there are 1 threads inside me\n",
      "I am thread 0 in team 55 and there are 1 threads inside me\n",
      "I am thread 0 in team 51 and there are 1 threads inside me\n",
      "I am thread 0 in team 49 and there are 1 threads inside me\n",
      "I am thread 0 in team 53 and there are 1 threads inside me\n",
      "I am thread 0 in team 52 and there are 1 threads inside me\n",
      "I am thread 0 in team 56 and there are 1 threads inside me\n",
      "I am thread 0 in team 54 and there are 1 threads inside me\n",
      "I am thread 0 in team 50 and there are 1 threads inside me\n",
      "I am thread 0 in team 58 and there are 1 threads inside me\n",
      "I am thread 0 in team 57 and there are 1 threads inside me\n",
      "I am thread 0 in team 47 and there are 1 threads inside me\n",
      "I am thread 0 in team 59 and there are 1 threads inside me\n",
      "I am thread 0 in team 61 and there are 1 threads inside me\n",
      "I am thread 0 in team 63 and there are 1 threads inside me\n",
      "I am thread 0 in team 62 and there are 1 threads inside me\n",
      "I am thread 0 in team 60 and there are 1 threads inside me\n",
      "I am thread 0 in team 64 and there are 1 threads inside me\n",
      "I am thread 0 in team 65 and there are 1 threads inside me\n",
      "I am thread 0 in team 75 and there are 1 threads inside me\n",
      "I am thread 0 in team 76 and there are 1 threads inside me\n",
      "I am thread 0 in team 74 and there are 1 threads inside me\n",
      "I am thread 0 in team 68 and there are 1 threads inside me\n",
      "I am thread 0 in team 71 and there are 1 threads inside me\n",
      "I am thread 0 in team 70 and there are 1 threads inside me\n",
      "I am thread 0 in team 73 and there are 1 threads inside me\n",
      "I am thread 0 in team 66 and there are 1 threads inside me\n",
      "I am thread 0 in team 69 and there are 1 threads inside me\n",
      "I am thread 0 in team 67 and there are 1 threads inside me\n",
      "I am thread 0 in team 72 and there are 1 threads inside me\n",
      "I am thread 0 in team 78 and there are 1 threads inside me\n",
      "I am thread 0 in team 77 and there are 1 threads inside me\n",
      "I am thread 0 in team 79 and there are 1 threads inside me\n",
      "I am thread 0 in team 82 and there are 1 threads inside me\n",
      "I am thread 0 in team 86 and there are 1 threads inside me\n",
      "I am thread 0 in team 81 and there are 1 threads inside me\n",
      "I am thread 0 in team 83 and there are 1 threads inside me\n",
      "I am thread 0 in team 85 and there are 1 threads inside me\n",
      "I am thread 0 in team 84 and there are 1 threads inside me\n",
      "I am thread 0 in team 80 and there are 1 threads inside me\n",
      "I am thread 0 in team 90 and there are 1 threads inside me\n",
      "I am thread 0 in team 88 and there are 1 threads inside me\n",
      "I am thread 0 in team 87 and there are 1 threads inside me\n",
      "I am thread 0 in team 89 and there are 1 threads inside me\n",
      "I am thread 0 in team 92 and there are 1 threads inside me\n",
      "I am thread 0 in team 94 and there are 1 threads inside me\n",
      "I am thread 0 in team 93 and there are 1 threads inside me\n",
      "I am thread 0 in team 91 and there are 1 threads inside me\n",
      "I am thread 0 in team 96 and there are 1 threads inside me\n",
      "I am thread 0 in team 95 and there are 1 threads inside me\n",
      "I am thread 0 in team 97 and there are 1 threads inside me\n",
      "I am thread 0 in team 98 and there are 1 threads inside me\n",
      "I am thread 0 in team 99 and there are 1 threads inside me\n",
      "I am thread 0 in team 105 and there are 1 threads inside me\n",
      "I am thread 0 in team 106 and there are 1 threads inside me\n",
      "I am thread 0 in team 101 and there are 1 threads inside me\n",
      "I am thread 0 in team 103 and there are 1 threads inside me\n",
      "I am thread 0 in team 102 and there are 1 threads inside me\n",
      "I am thread 0 in team 100 and there are 1 threads inside me\n",
      "I am thread 0 in team 104 and there are 1 threads inside me\n",
      "I am thread 0 in team 116 and there are 1 threads inside me\n",
      "I am thread 0 in team 117 and there are 1 threads inside me\n",
      "I am thread 0 in team 113 and there are 1 threads inside me\n",
      "I am thread 0 in team 118 and there are 1 threads inside me\n",
      "I am thread 0 in team 109 and there are 1 threads inside me\n",
      "I am thread 0 in team 112 and there are 1 threads inside me\n",
      "I am thread 0 in team 111 and there are 1 threads inside me\n",
      "I am thread 0 in team 107 and there are 1 threads inside me\n",
      "I am thread 0 in team 115 and there are 1 threads inside me\n",
      "I am thread 0 in team 110 and there are 1 threads inside me\n",
      "I am thread 0 in team 108 and there are 1 threads inside me\n",
      "I am thread 0 in team 114 and there are 1 threads inside me\n",
      "I am thread 0 in team 119 and there are 1 threads inside me\n",
      "I am thread 0 in team 123 and there are 1 threads inside me\n",
      "I am thread 0 in team 122 and there are 1 threads inside me\n",
      "I am thread 0 in team 127 and there are 1 threads inside me\n",
      "I am thread 0 in team 121 and there are 1 threads inside me\n",
      "I am thread 0 in team 120 and there are 1 threads inside me\n",
      "I am thread 0 in team 126 and there are 1 threads inside me\n",
      "I am thread 0 in team 124 and there are 1 threads inside me\n",
      "I am thread 0 in team 125 and there are 1 threads inside me\n"
     ]
    }
   ],
   "source": [
    "!srun -N 1 -c 8 C/./teams_only.exe"
   ]
  },
  {
   "cell_type": "markdown",
   "metadata": {},
   "source": [
    "Play with this code in [teams_only.c](C/teams_only.c)"
   ]
  },
  {
   "cell_type": "markdown",
   "metadata": {},
   "source": [
    "## Parallel\n",
    "\n",
    "The parallel region creates multiple threads within a team. The `parallel` construct only affects the surrounding team. Since teams are mapped to a single SM, only using parallel will likely sub-utilize the system. Threads can synchronize (e.g. `single`, `master` or `masked`, `barriers`), and they are guaranteed to be executed concurrently, even when the system is oversubscribed (This was discussed during lab 1). Teams map to the different cores in the system. \n",
    "\n",
    "Take a look at the following code\n",
    "\n",
    "\n",
    "```C\n",
    "    #pragma omp target parallel\n",
    "    {\n",
    "        int teamNum = omp_get_team_num();\n",
    "        int threadNum = omp_get_thread_num();\n",
    "        int numThreads = omp_get_num_threads();\n",
    "        int numTeams = omp_get_num_teams();\n",
    "        #pragma omp master\n",
    "            printf(\"There are %d teams in total and %d threads\\n\", numTeams, numThreads);\n",
    "        printf(\"I am thread %d out of %d in team %d \\n\", threadNum, numThreads, teamNum);\n",
    "\n",
    "        #pragma omp barrier\n",
    "\n",
    "        #pragma omp single\n",
    "            printf(\"This message is guaranteed to go at the end\\n\");\n",
    "    }\n",
    "```"
   ]
  },
  {
   "cell_type": "code",
   "execution_count": 18,
   "metadata": {},
   "outputs": [],
   "source": [
    "# Building\n",
    "!srun -N 1 -c 8 clang -fopenmp -fopenmp-targets=nvptx64 C/parallel_only.c -o C/./parallel_only.exe"
   ]
  },
  {
   "cell_type": "code",
   "execution_count": 19,
   "metadata": {},
   "outputs": [
    {
     "name": "stdout",
     "output_type": "stream",
     "text": [
      "There are 1 teams in total and 128 threads\n",
      "I am thread 32 out of 128 in team 0 \n",
      "I am thread 33 out of 128 in team 0 \n",
      "I am thread 34 out of 128 in team 0 \n",
      "I am thread 35 out of 128 in team 0 \n",
      "I am thread 36 out of 128 in team 0 \n",
      "I am thread 37 out of 128 in team 0 \n",
      "I am thread 38 out of 128 in team 0 \n",
      "I am thread 39 out of 128 in team 0 \n",
      "I am thread 40 out of 128 in team 0 \n",
      "I am thread 41 out of 128 in team 0 \n",
      "I am thread 42 out of 128 in team 0 \n",
      "I am thread 43 out of 128 in team 0 \n",
      "I am thread 44 out of 128 in team 0 \n",
      "I am thread 45 out of 128 in team 0 \n",
      "I am thread 46 out of 128 in team 0 \n",
      "I am thread 47 out of 128 in team 0 \n",
      "I am thread 48 out of 128 in team 0 \n",
      "I am thread 49 out of 128 in team 0 \n",
      "I am thread 50 out of 128 in team 0 \n",
      "I am thread 51 out of 128 in team 0 \n",
      "I am thread 52 out of 128 in team 0 \n",
      "I am thread 53 out of 128 in team 0 \n",
      "I am thread 54 out of 128 in team 0 \n",
      "I am thread 55 out of 128 in team 0 \n",
      "I am thread 56 out of 128 in team 0 \n",
      "I am thread 57 out of 128 in team 0 \n",
      "I am thread 58 out of 128 in team 0 \n",
      "I am thread 59 out of 128 in team 0 \n",
      "I am thread 60 out of 128 in team 0 \n",
      "I am thread 61 out of 128 in team 0 \n",
      "I am thread 62 out of 128 in team 0 \n",
      "I am thread 63 out of 128 in team 0 \n",
      "I am thread 64 out of 128 in team 0 \n",
      "I am thread 65 out of 128 in team 0 \n",
      "I am thread 66 out of 128 in team 0 \n",
      "I am thread 67 out of 128 in team 0 \n",
      "I am thread 68 out of 128 in team 0 \n",
      "I am thread 69 out of 128 in team 0 \n",
      "I am thread 70 out of 128 in team 0 \n",
      "I am thread 71 out of 128 in team 0 \n",
      "I am thread 72 out of 128 in team 0 \n",
      "I am thread 73 out of 128 in team 0 \n",
      "I am thread 74 out of 128 in team 0 \n",
      "I am thread 75 out of 128 in team 0 \n",
      "I am thread 76 out of 128 in team 0 \n",
      "I am thread 77 out of 128 in team 0 \n",
      "I am thread 78 out of 128 in team 0 \n",
      "I am thread 79 out of 128 in team 0 \n",
      "I am thread 80 out of 128 in team 0 \n",
      "I am thread 81 out of 128 in team 0 \n",
      "I am thread 82 out of 128 in team 0 \n",
      "I am thread 83 out of 128 in team 0 \n",
      "I am thread 84 out of 128 in team 0 \n",
      "I am thread 85 out of 128 in team 0 \n",
      "I am thread 86 out of 128 in team 0 \n",
      "I am thread 87 out of 128 in team 0 \n",
      "I am thread 88 out of 128 in team 0 \n",
      "I am thread 89 out of 128 in team 0 \n",
      "I am thread 90 out of 128 in team 0 \n",
      "I am thread 91 out of 128 in team 0 \n",
      "I am thread 92 out of 128 in team 0 \n",
      "I am thread 93 out of 128 in team 0 \n",
      "I am thread 94 out of 128 in team 0 \n",
      "I am thread 95 out of 128 in team 0 \n",
      "I am thread 96 out of 128 in team 0 \n",
      "I am thread 97 out of 128 in team 0 \n",
      "I am thread 98 out of 128 in team 0 \n",
      "I am thread 99 out of 128 in team 0 \n",
      "I am thread 100 out of 128 in team 0 \n",
      "I am thread 101 out of 128 in team 0 \n",
      "I am thread 102 out of 128 in team 0 \n",
      "I am thread 103 out of 128 in team 0 \n",
      "I am thread 104 out of 128 in team 0 \n",
      "I am thread 105 out of 128 in team 0 \n",
      "I am thread 106 out of 128 in team 0 \n",
      "I am thread 107 out of 128 in team 0 \n",
      "I am thread 108 out of 128 in team 0 \n",
      "I am thread 109 out of 128 in team 0 \n",
      "I am thread 110 out of 128 in team 0 \n",
      "I am thread 111 out of 128 in team 0 \n",
      "I am thread 112 out of 128 in team 0 \n",
      "I am thread 113 out of 128 in team 0 \n",
      "I am thread 114 out of 128 in team 0 \n",
      "I am thread 115 out of 128 in team 0 \n",
      "I am thread 116 out of 128 in team 0 \n",
      "I am thread 117 out of 128 in team 0 \n",
      "I am thread 118 out of 128 in team 0 \n",
      "I am thread 119 out of 128 in team 0 \n",
      "I am thread 120 out of 128 in team 0 \n",
      "I am thread 121 out of 128 in team 0 \n",
      "I am thread 122 out of 128 in team 0 \n",
      "I am thread 123 out of 128 in team 0 \n",
      "I am thread 124 out of 128 in team 0 \n",
      "I am thread 125 out of 128 in team 0 \n",
      "I am thread 126 out of 128 in team 0 \n",
      "I am thread 127 out of 128 in team 0 \n",
      "I am thread 0 out of 128 in team 0 \n",
      "I am thread 1 out of 128 in team 0 \n",
      "I am thread 2 out of 128 in team 0 \n",
      "I am thread 3 out of 128 in team 0 \n",
      "I am thread 4 out of 128 in team 0 \n",
      "I am thread 5 out of 128 in team 0 \n",
      "I am thread 6 out of 128 in team 0 \n",
      "I am thread 7 out of 128 in team 0 \n",
      "I am thread 8 out of 128 in team 0 \n",
      "I am thread 9 out of 128 in team 0 \n",
      "I am thread 10 out of 128 in team 0 \n",
      "I am thread 11 out of 128 in team 0 \n",
      "I am thread 12 out of 128 in team 0 \n",
      "I am thread 13 out of 128 in team 0 \n",
      "I am thread 14 out of 128 in team 0 \n",
      "I am thread 15 out of 128 in team 0 \n",
      "I am thread 16 out of 128 in team 0 \n",
      "I am thread 17 out of 128 in team 0 \n",
      "I am thread 18 out of 128 in team 0 \n",
      "I am thread 19 out of 128 in team 0 \n",
      "I am thread 20 out of 128 in team 0 \n",
      "I am thread 21 out of 128 in team 0 \n",
      "I am thread 22 out of 128 in team 0 \n",
      "I am thread 23 out of 128 in team 0 \n",
      "I am thread 24 out of 128 in team 0 \n",
      "I am thread 25 out of 128 in team 0 \n",
      "I am thread 26 out of 128 in team 0 \n",
      "I am thread 27 out of 128 in team 0 \n",
      "I am thread 28 out of 128 in team 0 \n",
      "I am thread 29 out of 128 in team 0 \n",
      "I am thread 30 out of 128 in team 0 \n",
      "I am thread 31 out of 128 in team 0 \n",
      "This message is guaranteed to go at the end\n"
     ]
    }
   ],
   "source": [
    "!srun -N 1 -c 8 C/./parallel_only.exe\n"
   ]
  },
  {
   "cell_type": "markdown",
   "metadata": {},
   "source": [
    "You can play with this code in [parallel_only.c](C/parallel_only.c)"
   ]
  },
  {
   "cell_type": "markdown",
   "metadata": {},
   "source": [
    "## Controlling number of teams and threads\n",
    "\n",
    "It is possible to change the number of teams and threads that are created. The clauses `num_teams()` and `num_threads()` in the `teams` and `parallel` directives respectively allows the developer to control this. \n",
    "\n",
    "Take a look at the following code:\n",
    "\n",
    "\n",
    "```C\n",
    " #pragma omp target\n",
    "{\n",
    "    #pragma omp teams num_teams(5)\n",
    "    {\n",
    "        #pragma omp parallel num_threads(32)\n",
    "        {\n",
    "            int teamNum = omp_get_team_num();\n",
    "            int threadNum = omp_get_thread_num();\n",
    "            int numThreads = omp_get_num_threads();\n",
    "            int numTeams = omp_get_num_teams();\n",
    "            //#pragma omp master -- there's a bug in clang\n",
    "            if (threadNum == 0)\n",
    "                printf(\"There are %d teams in total and %d threads in this team\\n\", numTeams, numThreads);\n",
    "            printf(\"I am thread %d out of %d in team %d \\n\", threadNum, numThreads, teamNum);\n",
    "\n",
    "            #pragma omp barrier\n",
    "\n",
    "            //#pragma omp single -- there's a bug in clang\n",
    "            if (threadNum == 0)\n",
    "                printf(\"This message is guaranteed to go at the end of parallel but not across teams\\n\");\n",
    "        }\n",
    "    }\n",
    "}\n",
    "```"
   ]
  },
  {
   "cell_type": "code",
   "execution_count": 23,
   "metadata": {},
   "outputs": [],
   "source": [
    "# Building\n",
    "!srun -N 1 -c 8 clang -fopenmp -fopenmp-targets=nvptx64 C/teams_parallel.c -o C/./teams_parallel.exe"
   ]
  },
  {
   "cell_type": "code",
   "execution_count": 24,
   "metadata": {},
   "outputs": [
    {
     "name": "stdout",
     "output_type": "stream",
     "text": [
      "There are 5 teams in total and 32 threads in this team\n",
      "There are 5 teams in total and 32 threads in this team\n",
      "There are 5 teams in total and 32 threads in this team\n",
      "There are 5 teams in total and 32 threads in this team\n",
      "There are 5 teams in total and 32 threads in this team\n",
      "I am thread 0 out of 32 in team 0 \n",
      "I am thread 1 out of 32 in team 0 \n",
      "I am thread 2 out of 32 in team 0 \n",
      "I am thread 3 out of 32 in team 0 \n",
      "I am thread 4 out of 32 in team 0 \n",
      "I am thread 5 out of 32 in team 0 \n",
      "I am thread 6 out of 32 in team 0 \n",
      "I am thread 7 out of 32 in team 0 \n",
      "I am thread 8 out of 32 in team 0 \n",
      "I am thread 9 out of 32 in team 0 \n",
      "I am thread 10 out of 32 in team 0 \n",
      "I am thread 11 out of 32 in team 0 \n",
      "I am thread 12 out of 32 in team 0 \n",
      "I am thread 13 out of 32 in team 0 \n",
      "I am thread 14 out of 32 in team 0 \n",
      "I am thread 15 out of 32 in team 0 \n",
      "I am thread 16 out of 32 in team 0 \n",
      "I am thread 17 out of 32 in team 0 \n",
      "I am thread 18 out of 32 in team 0 \n",
      "I am thread 19 out of 32 in team 0 \n",
      "I am thread 20 out of 32 in team 0 \n",
      "I am thread 21 out of 32 in team 0 \n",
      "I am thread 22 out of 32 in team 0 \n",
      "I am thread 23 out of 32 in team 0 \n",
      "I am thread 24 out of 32 in team 0 \n",
      "I am thread 25 out of 32 in team 0 \n",
      "I am thread 26 out of 32 in team 0 \n",
      "I am thread 27 out of 32 in team 0 \n",
      "I am thread 28 out of 32 in team 0 \n",
      "I am thread 29 out of 32 in team 0 \n",
      "I am thread 30 out of 32 in team 0 \n",
      "I am thread 31 out of 32 in team 0 \n",
      "I am thread 0 out of 32 in team 3 \n",
      "I am thread 1 out of 32 in team 3 \n",
      "I am thread 2 out of 32 in team 3 \n",
      "I am thread 3 out of 32 in team 3 \n",
      "I am thread 4 out of 32 in team 3 \n",
      "I am thread 5 out of 32 in team 3 \n",
      "I am thread 6 out of 32 in team 3 \n",
      "I am thread 7 out of 32 in team 3 \n",
      "I am thread 8 out of 32 in team 3 \n",
      "I am thread 9 out of 32 in team 3 \n",
      "I am thread 10 out of 32 in team 3 \n",
      "I am thread 11 out of 32 in team 3 \n",
      "I am thread 12 out of 32 in team 3 \n",
      "I am thread 13 out of 32 in team 3 \n",
      "I am thread 14 out of 32 in team 3 \n",
      "I am thread 15 out of 32 in team 3 \n",
      "I am thread 16 out of 32 in team 3 \n",
      "I am thread 17 out of 32 in team 3 \n",
      "I am thread 18 out of 32 in team 3 \n",
      "I am thread 19 out of 32 in team 3 \n",
      "I am thread 20 out of 32 in team 3 \n",
      "I am thread 21 out of 32 in team 3 \n",
      "I am thread 22 out of 32 in team 3 \n",
      "I am thread 23 out of 32 in team 3 \n",
      "I am thread 24 out of 32 in team 3 \n",
      "I am thread 25 out of 32 in team 3 \n",
      "I am thread 26 out of 32 in team 3 \n",
      "I am thread 27 out of 32 in team 3 \n",
      "I am thread 28 out of 32 in team 3 \n",
      "I am thread 29 out of 32 in team 3 \n",
      "I am thread 30 out of 32 in team 3 \n",
      "I am thread 31 out of 32 in team 3 \n",
      "I am thread 0 out of 32 in team 1 \n",
      "I am thread 1 out of 32 in team 1 \n",
      "I am thread 2 out of 32 in team 1 \n",
      "I am thread 3 out of 32 in team 1 \n",
      "I am thread 4 out of 32 in team 1 \n",
      "I am thread 5 out of 32 in team 1 \n",
      "I am thread 6 out of 32 in team 1 \n",
      "I am thread 7 out of 32 in team 1 \n",
      "I am thread 8 out of 32 in team 1 \n",
      "I am thread 9 out of 32 in team 1 \n",
      "I am thread 10 out of 32 in team 1 \n",
      "I am thread 11 out of 32 in team 1 \n",
      "I am thread 12 out of 32 in team 1 \n",
      "I am thread 13 out of 32 in team 1 \n",
      "I am thread 14 out of 32 in team 1 \n",
      "I am thread 15 out of 32 in team 1 \n",
      "I am thread 16 out of 32 in team 1 \n",
      "I am thread 17 out of 32 in team 1 \n",
      "I am thread 18 out of 32 in team 1 \n",
      "I am thread 19 out of 32 in team 1 \n",
      "I am thread 20 out of 32 in team 1 \n",
      "I am thread 21 out of 32 in team 1 \n",
      "I am thread 22 out of 32 in team 1 \n",
      "I am thread 23 out of 32 in team 1 \n",
      "I am thread 24 out of 32 in team 1 \n",
      "I am thread 25 out of 32 in team 1 \n",
      "I am thread 26 out of 32 in team 1 \n",
      "I am thread 27 out of 32 in team 1 \n",
      "I am thread 28 out of 32 in team 1 \n",
      "I am thread 29 out of 32 in team 1 \n",
      "I am thread 30 out of 32 in team 1 \n",
      "I am thread 31 out of 32 in team 1 \n",
      "I am thread 0 out of 32 in team 2 \n",
      "I am thread 1 out of 32 in team 2 \n",
      "I am thread 2 out of 32 in team 2 \n",
      "I am thread 3 out of 32 in team 2 \n",
      "I am thread 4 out of 32 in team 2 \n",
      "I am thread 5 out of 32 in team 2 \n",
      "I am thread 6 out of 32 in team 2 \n",
      "I am thread 7 out of 32 in team 2 \n",
      "I am thread 8 out of 32 in team 2 \n",
      "I am thread 9 out of 32 in team 2 \n",
      "I am thread 10 out of 32 in team 2 \n",
      "I am thread 11 out of 32 in team 2 \n",
      "I am thread 12 out of 32 in team 2 \n",
      "I am thread 13 out of 32 in team 2 \n",
      "I am thread 14 out of 32 in team 2 \n",
      "I am thread 15 out of 32 in team 2 \n",
      "I am thread 16 out of 32 in team 2 \n",
      "I am thread 17 out of 32 in team 2 \n",
      "I am thread 18 out of 32 in team 2 \n",
      "I am thread 19 out of 32 in team 2 \n",
      "I am thread 20 out of 32 in team 2 \n",
      "I am thread 21 out of 32 in team 2 \n",
      "I am thread 22 out of 32 in team 2 \n",
      "I am thread 23 out of 32 in team 2 \n",
      "I am thread 24 out of 32 in team 2 \n",
      "I am thread 25 out of 32 in team 2 \n",
      "I am thread 26 out of 32 in team 2 \n",
      "I am thread 27 out of 32 in team 2 \n",
      "I am thread 28 out of 32 in team 2 \n",
      "I am thread 29 out of 32 in team 2 \n",
      "I am thread 30 out of 32 in team 2 \n",
      "I am thread 31 out of 32 in team 2 \n",
      "I am thread 0 out of 32 in team 4 \n",
      "I am thread 1 out of 32 in team 4 \n",
      "I am thread 2 out of 32 in team 4 \n",
      "I am thread 3 out of 32 in team 4 \n",
      "I am thread 4 out of 32 in team 4 \n",
      "I am thread 5 out of 32 in team 4 \n",
      "I am thread 6 out of 32 in team 4 \n",
      "I am thread 7 out of 32 in team 4 \n",
      "I am thread 8 out of 32 in team 4 \n",
      "I am thread 9 out of 32 in team 4 \n",
      "I am thread 10 out of 32 in team 4 \n",
      "I am thread 11 out of 32 in team 4 \n",
      "I am thread 12 out of 32 in team 4 \n",
      "I am thread 13 out of 32 in team 4 \n",
      "I am thread 14 out of 32 in team 4 \n",
      "I am thread 15 out of 32 in team 4 \n",
      "I am thread 16 out of 32 in team 4 \n",
      "I am thread 17 out of 32 in team 4 \n",
      "I am thread 18 out of 32 in team 4 \n",
      "I am thread 19 out of 32 in team 4 \n",
      "I am thread 20 out of 32 in team 4 \n",
      "I am thread 21 out of 32 in team 4 \n",
      "I am thread 22 out of 32 in team 4 \n",
      "I am thread 23 out of 32 in team 4 \n",
      "I am thread 24 out of 32 in team 4 \n",
      "I am thread 25 out of 32 in team 4 \n",
      "I am thread 26 out of 32 in team 4 \n",
      "I am thread 27 out of 32 in team 4 \n",
      "I am thread 28 out of 32 in team 4 \n",
      "I am thread 29 out of 32 in team 4 \n",
      "I am thread 30 out of 32 in team 4 \n",
      "I am thread 31 out of 32 in team 4 \n",
      "This message is guaranteed to go at the end of parallel but not across teams\n",
      "This message is guaranteed to go at the end of parallel but not across teams\n",
      "This message is guaranteed to go at the end of parallel but not across teams\n",
      "This message is guaranteed to go at the end of parallel but not across teams\n",
      "This message is guaranteed to go at the end of parallel but not across teams\n"
     ]
    }
   ],
   "source": [
    "!srun -N 1 -c 8 C/./teams_parallel.exe"
   ]
  },
  {
   "cell_type": "markdown",
   "metadata": {},
   "source": [
    "Play with the above code in [teams_parallel.c](C/teams_parallel.c)\n",
    "\n",
    "An important note here is that `num_threads` corresponds to the **desired** number of threads. The compiler or runtime may change this value to be less than the number specified, but never more than the specified number. The *OMP_DYNAMIC* environment variable allows us to remove the dynamic thread creation, forcing the runtime to create the exact number of threads specified. "
   ]
  },
  {
   "cell_type": "markdown",
   "metadata": {},
   "source": [
    "## Worksharing loops\n",
    "\n",
    "Tbe idea behind worksharing loops is to be able to distribute an iteration space across teams and threads. As you noticed above, the code within the `teams` or `parallel` region is executed by all the threads. If we have a loop inside, then this loop is executed from beginning to end by all the threads. \n",
    "\n",
    "Imagine that you have a loop with 1000 iterations. Now, instead of parallelizing those iterations you will be executing the loop `1000*numTeams*numThreads` times. Way more work than originally planned, and potentially an error in the execution. \n",
    "\n",
    "See the following example\n",
    "\n",
    "\n",
    "```C\n",
    "    #pragma omp target map(tofrom:a)\n",
    "    {\n",
    "        #pragma omp teams num_teams(5)\n",
    "        {\n",
    "            #pragma omp parallel num_threads(32)\n",
    "            {\n",
    "                for (int i = 0; i < 100; i++)\n",
    "                    #pragma omp atomic\n",
    "                        a++;\n",
    "            }\n",
    "        }\n",
    "    }\n",
    "```"
   ]
  },
  {
   "cell_type": "code",
   "execution_count": 25,
   "metadata": {},
   "outputs": [],
   "source": [
    "# Building\n",
    "!srun -N 1 -c 8 clang -fopenmp -fopenmp-targets=nvptx64 C/teams_parallel_no_worksharing.c -o C/./teams_parallel_no_worksharing.exe"
   ]
  },
  {
   "cell_type": "code",
   "execution_count": 26,
   "metadata": {},
   "outputs": [
    {
     "name": "stdout",
     "output_type": "stream",
     "text": [
      "Num Threads = 32, Num Teams = 5\n",
      "a was incremented 16000 times\n"
     ]
    }
   ],
   "source": [
    "!srun -N 1 -c 8 C/./teams_parallel_no_worksharing.exe"
   ]
  },
  {
   "cell_type": "markdown",
   "metadata": {},
   "source": [
    "Play with this code in [teams_parallel_no_worksharing.c](C/teams_parallel_no_worksharing.c)"
   ]
  },
  {
   "cell_type": "markdown",
   "metadata": {},
   "source": [
    "However, developers often use loops to determine work across different data. When the work performed in each iteration is independent from other iteartions, it is possible to safely execute this code in parallel. These are the cases where GPUs shine: Single Programs performing the same work on Multiple Data (SPMD). "
   ]
  },
  {
   "cell_type": "markdown",
   "metadata": {},
   "source": [
    "# Distribute Directive\n",
    "\n",
    "The `distribute` construct partitions an interation space across the different teams. If, for example we have 3 teams, and an iteration space of 9 iterations, a possible distribution strategy would be:\n",
    "\n",
    "`|T0|T0|T0|T1|T1|T1|T2|T2|T2`\n",
    "\n",
    "If the user does not specify an scheduling strategy for the distribution of work (see below), then the compiler is free to chose a distribution strategy. So even if I have 3 teams, the above distribution strategy is still valid:\n",
    "\n",
    "`|T0|T0|T0|T0|T0|T0|T0|T0|T0`\n",
    "\n",
    "Let's take a look at an example\n",
    "\n",
    "\n",
    "```C\n",
    "#pragma omp target teams distribute num_teams(3)\n",
    "for(int i = 0; i < 10; i++) {\n",
    "    printf(\"iteration %d executed by team %d\", i, omp_get_team_num());\n",
    "}\n",
    "```"
   ]
  },
  {
   "cell_type": "code",
   "execution_count": 32,
   "metadata": {},
   "outputs": [],
   "source": [
    "# Building\n",
    "!srun -N 1 -c 8 clang -fopenmp -fopenmp-targets=nvptx64 C/teams_distribute.c -o C/./teams_distribute.exe"
   ]
  },
  {
   "cell_type": "code",
   "execution_count": 31,
   "metadata": {},
   "outputs": [
    {
     "name": "stdout",
     "output_type": "stream",
     "text": [
      "iteration 0 executed by team 0\n",
      "iteration 4 executed by team 1\n",
      "iteration 7 executed by team 2\n",
      "iteration 1 executed by team 0\n",
      "iteration 5 executed by team 1\n",
      "iteration 8 executed by team 2\n",
      "iteration 2 executed by team 0\n",
      "iteration 6 executed by team 1\n",
      "iteration 9 executed by team 2\n",
      "iteration 3 executed by team 0\n"
     ]
    }
   ],
   "source": [
    "!srun -N 1 -c 8 C/./teams_distribute.exe"
   ]
  },
  {
   "cell_type": "markdown",
   "metadata": {},
   "source": [
    "Play with the above code in [teams_distribute.c](C/teams_distribute.c)"
   ]
  },
  {
   "cell_type": "markdown",
   "metadata": {},
   "source": [
    "# For directive\n",
    "Parallel works really similar to distribute, but it distributes the iteration space over threads. Like before, if scheduling is not specified, then it is up to the compiler or runtime to determine it.\n",
    "\n",
    "Same code as above but for parallel.\n",
    "\n",
    "\n",
    "```C\n",
    "#pragma omp target parallel for num_threads(3)\n",
    "for(int i = 0; i < 10; i++) {\n",
    "    printf(\"iteration %d executed by thread %d\", i, omp_get_thread_num());\n",
    "}\n",
    "```"
   ]
  },
  {
   "cell_type": "code",
   "execution_count": 33,
   "metadata": {},
   "outputs": [],
   "source": [
    "# Building\n",
    "!srun -N 1 -c 8 clang -fopenmp -fopenmp-targets=nvptx64 C/parallel_for.c -o C/./parallel_for.exe"
   ]
  },
  {
   "cell_type": "code",
   "execution_count": 34,
   "metadata": {},
   "outputs": [
    {
     "name": "stdout",
     "output_type": "stream",
     "text": [
      "iteration 0 executed by thread 0\n",
      "iteration 1 executed by thread 0\n",
      "iteration 2 executed by thread 0\n",
      "iteration 3 executed by thread 0\n",
      "iteration 4 executed by thread 0\n",
      "iteration 5 executed by thread 0\n",
      "iteration 6 executed by thread 0\n",
      "iteration 7 executed by thread 0\n",
      "iteration 8 executed by thread 0\n",
      "iteration 9 executed by thread 0\n"
     ]
    }
   ],
   "source": [
    "!srun -N 1 -c 8 C/./parallel_for.exe"
   ]
  },
  {
   "cell_type": "markdown",
   "metadata": {},
   "source": [
    "## Combined construct\n",
    "\n",
    "Often times, we want the iteration space to be distributed across teams and threads. In this case it is possible to specify a combined construct that spawns both teams and threads, and distributes the iteration space accordingly. \n",
    "\n",
    "The commonly used combined construct `#pragma omp target teams distribute parallel for` achieves this. Scheduling, when not specified, is still up to the compiler or runtime. Take for example the above iteration space with 9 iterations. Here the number proceeding the capital T is the team number, and the one proceeding the lower case t is the thread number. \n",
    "\n",
    "`|T0t0|T0t1|T0t2|T1t0|T1t1|T1t2|T2t0|T2t1|T2t2|`\n",
    "\n",
    "Let's run this code again:\n",
    "\n",
    "\n",
    "```C\n",
    "#pragma omp target teams distribute parallel for num_teams(3) thread_limit(3)\n",
    "for(int i = 0; i < 10; i++) {\n",
    "    printf(\"iteration %d executed by team %d thread %d\\n\", i, omp_get_team_num(), omp_get_thread_num());\n",
    "}\n",
    "```\n"
   ]
  },
  {
   "cell_type": "code",
   "execution_count": 35,
   "metadata": {},
   "outputs": [],
   "source": [
    "# Building\n",
    "!srun -N 1 -c 8 clang -fopenmp -fopenmp-targets=nvptx64 C/teams_distribute_parallel_for.c -o C/./teams_distribute_parallel_for.exe"
   ]
  },
  {
   "cell_type": "code",
   "execution_count": 36,
   "metadata": {},
   "outputs": [
    {
     "name": "stdout",
     "output_type": "stream",
     "text": [
      "iteration 3 executed by team 1 thread 0\n",
      "iteration 0 executed by team 0 thread 0\n",
      "iteration 6 executed by team 2 thread 0\n",
      "iteration 4 executed by team 1 thread 0\n",
      "iteration 1 executed by team 0 thread 0\n",
      "iteration 7 executed by team 2 thread 0\n",
      "iteration 5 executed by team 1 thread 0\n",
      "iteration 2 executed by team 0 thread 0\n",
      "iteration 8 executed by team 2 thread 0\n",
      "iteration 9 executed by team 0 thread 0\n"
     ]
    }
   ],
   "source": [
    "!srun -N 1 -c 8 C/./teams_distribute_parallel_for.exe"
   ]
  },
  {
   "cell_type": "markdown",
   "metadata": {},
   "source": [
    "Play with the above code in [teams_distribute_parallel_for.c](C/teams_distribute_parallel_for.c)"
   ]
  },
  {
   "cell_type": "markdown",
   "metadata": {},
   "source": [
    "## Scheduling decisions\n",
    "\n",
    "Scheduling of worksharing loops corresponds to providing the compiler with strategies to distribute the iteration space across workers. There are different type of scheduling policies (e.g. `dynamic`, `static`, `auto`, ...), most of which pre-date GPU programming and were meant for CPUs. In the case of GPUs it is often desired to have a static scheduling. In the case of teams, distribute scheduling only supports `static`. A more complete description of scheduling strategies can be found in a different lab. We will focus only on static scheduling. \n",
    "\n",
    "There are two scheduling clauses: `schedule()` and `dist_schedule()` for the `for` and `distribute` worksharing loops respectively. Static scheduling applies to both, and it tells the compiler what is the size of the iteration group to be assigned to each worker. An scheduling of `schedule(2)`, will create chunks of two iterations and assign it to each thread. For example for the above iteration space of 9 iterations, a clause `schedule(2)` will result in the following distribution of the iteration space.\n",
    "\n",
    "`|t0|t0|t1|t1|t2|t2|t0|t0|t1|`\n",
    "\n",
    "Let's take a look at a more complex example:\n",
    "\n",
    "\n",
    "```C\n",
    "#pragma omp target teams distribute parallel for \\\n",
    "        num_teams(3) dist_schedule(static,3) \\\n",
    "        num_threads(100) schedule(static,2)\n",
    "for(int i = 0; i < 10; i++) {\n",
    "    printf(\"iteration %d executed by team %d thread %d\\n\", i, omp_get_team_num(), omp_get_thread_num());\n",
    "}\n",
    "```\n",
    "\n",
    "```\n",
    "Note: We are using a large number of threads in `num_threads` trying to avoid the dynamic thread creation to result into a single thread only. The explanation of why this is the case is outside of the scope of this tutorial. Allow us to hand-wave this one\n",
    "```\n"
   ]
  },
  {
   "cell_type": "code",
   "execution_count": 44,
   "metadata": {},
   "outputs": [],
   "source": [
    "# Building\n",
    "!srun -N 1 -c 8 clang -fopenmp -fopenmp-targets=nvptx64 C/teams_distribute_parallel_for_sched.c -o C/./teams_distribute_parallel_for_sched.exe"
   ]
  },
  {
   "cell_type": "code",
   "execution_count": 45,
   "metadata": {},
   "outputs": [
    {
     "name": "stdout",
     "output_type": "stream",
     "text": [
      "iteration 3 executed by team 1 thread 0\n",
      "iteration 5 executed by team 1 thread 1\n",
      "iteration 0 executed by team 0 thread 0\n",
      "iteration 2 executed by team 0 thread 1\n",
      "iteration 6 executed by team 2 thread 0\n",
      "iteration 8 executed by team 2 thread 1\n",
      "iteration 4 executed by team 1 thread 0\n",
      "iteration 1 executed by team 0 thread 0\n",
      "iteration 7 executed by team 2 thread 0\n",
      "iteration 9 executed by team 0 thread 0\n"
     ]
    }
   ],
   "source": [
    "!srun -N 1 -c 8 C/./teams_distribute_parallel_for_sched.exe"
   ]
  },
  {
   "cell_type": "markdown",
   "metadata": {},
   "source": [
    "You can play with this code in [teams_distribute_parallel_for_sched.c](C/teams_distribute_parallel_for_sched.c)."
   ]
  },
  {
   "cell_type": "markdown",
   "metadata": {},
   "source": [
    "# Exercise 3\n",
    "\n",
    "Change the modified version of the example used in the introduction to use all the concepts learned here. What's the new execution time?\n",
    "\n",
    "Go to [exercise3.c](Exercises/exercise3.c) to provide your solution. Scale the size of the problem by changing N. Try to plot the results"
   ]
  },
  {
   "cell_type": "code",
   "execution_count": 72,
   "metadata": {},
   "outputs": [
    {
     "name": "stdout",
     "output_type": "stream",
     "text": [
      "CPU Time = 0.007429\n",
      "GPU Time = 3.009654\n",
      "GPU no data move Time = 2.926691\n"
     ]
    }
   ],
   "source": [
    "# Building Solution\n",
    "!srun -N 1 -c 8 clang -fopenmp -fopenmp-targets=nvptx64 -lm Exercises/exercise3.c -o Exercises/exercise3.exe\n",
    "\n",
    "# Running solution\n",
    "!srun -N 1 -c 8 Exercises/./exercise3.exe"
   ]
  },
  {
   "cell_type": "markdown",
   "metadata": {},
   "source": [
    "The following is a possible solution to this exercise: [exercise3.c](Solutions/exercise3.c)\n",
    "\n"
   ]
  },
  {
   "cell_type": "code",
   "execution_count": 69,
   "metadata": {},
   "outputs": [
    {
     "name": "stdout",
     "output_type": "stream",
     "text": [
      "CPU Time = 7.382452\n",
      "GPU Time = 5.611982\n",
      "GPU no data move Time = 5.283598\n"
     ]
    }
   ],
   "source": [
    "# Building Solution\n",
    "!srun -N 1 -c 8 clang -fopenmp -fopenmp-targets=nvptx64 -lm Solutions/exercise3.c -o Solutions/exercise3.exe\n",
    "\n",
    "# Running solution\n",
    "!srun -N 1 -c 8 Solutions/./exercise3.exe"
   ]
  },
  {
   "cell_type": "code",
   "execution_count": null,
   "metadata": {},
   "outputs": [],
   "source": []
  }
 ],
 "metadata": {
  "kernelspec": {
   "display_name": "Python 3 (ipykernel)",
   "language": "python",
   "name": "python3"
  },
  "language_info": {
   "codemirror_mode": {
    "name": "ipython",
    "version": 3
   },
   "file_extension": ".py",
   "mimetype": "text/x-python",
   "name": "python",
   "nbconvert_exporter": "python",
   "pygments_lexer": "ipython3",
   "version": "3.8.10"
  },
  "vscode": {
   "interpreter": {
    "hash": "e7370f93d1d0cde622a1f8e1c04877d8463912d04d973331ad4851f04de6915a"
   }
  }
 },
 "nbformat": 4,
 "nbformat_minor": 2
}
